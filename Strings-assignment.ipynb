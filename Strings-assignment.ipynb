{
 "cells": [
  {
   "cell_type": "raw",
   "id": "1a7709c3-8354-4b80-b286-085d54e955e4",
   "metadata": {},
   "source": [
    "Q1: We can store a single quote by putting it in double quotes.\n",
    "like \" ' \". Now this can be used as a variable."
   ]
  },
  {
   "cell_type": "raw",
   "id": "3d739655-ea68-4661-ab2b-ece34fad3e5f",
   "metadata": {},
   "source": [
    "Q2: x = 'a'\n",
    "here x is a string type variable as anything added in a single or double quote will be treated as a string"
   ]
  },
  {
   "cell_type": "raw",
   "id": "17a35719-a9ae-432c-a2e6-fe9832db650c",
   "metadata": {},
   "source": [
    "Q3: p = 'Welcome to Python foundat1on course'\n",
    "1    p.find('P')\n",
    "     11\n",
    "2    p.count('o')\n",
    "     6\n",
    "3    len(p)\n",
    "     35\n",
    "4"
   ]
  },
  {
   "cell_type": "raw",
   "id": "9202e089-6336-4cb5-9d65-a929707e8ada",
   "metadata": {},
   "source": [
    "Q4: a   lower=0\n",
    "        for i in d:\n",
    "            if(i.islower()):\n",
    "               lower+=1\n",
    "         print(lower)\n",
    "         \n",
    "         4\n",
    "         \n",
    "b  upper=0\n",
    "for i in d:\n",
    "      if(i.isupper()):\n",
    "            upper+=1\n",
    "            \n",
    "            print(upper)\n",
    "            \n",
    "            2"
   ]
  },
  {
   "cell_type": "raw",
   "id": "6938dbeb-4fae-4cbf-ba9c-b22fe5c72a6b",
   "metadata": {},
   "source": [
    "Q5: c = 12345   \n",
    "c = str(c)\n",
    "c\n",
    "'12345'"
   ]
  }
 ],
 "metadata": {
  "kernelspec": {
   "display_name": "Python 3 (ipykernel)",
   "language": "python",
   "name": "python3"
  },
  "language_info": {
   "codemirror_mode": {
    "name": "ipython",
    "version": 3
   },
   "file_extension": ".py",
   "mimetype": "text/x-python",
   "name": "python",
   "nbconvert_exporter": "python",
   "pygments_lexer": "ipython3",
   "version": "3.10.8"
  }
 },
 "nbformat": 4,
 "nbformat_minor": 5
}
