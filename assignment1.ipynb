{
 "cells": [
  {
   "cell_type": "raw",
   "id": "5494559a-c2bc-4734-ad06-9695209e2b1f",
   "metadata": {},
   "source": [
    "Q1: Variable names must begin with a letter, underscore, non-number character.\n",
    "Always use the ‘=’ sign to initialize a value to the Variable.\n",
    "Do not use a comma with numbers.\n",
    "A variable name once defined can only be used once in the program. You cannot define it again to store another type of value. It will override the lod value\n",
    "Once a data type is defined for the variable, then only that type of data can be stored in it. For example, if a variable is declared as Int, then it can only store integer values."
   ]
  },
  {
   "cell_type": "raw",
   "id": "e9e4c0f9-483a-43ce-8f1a-8b4870549b1c",
   "metadata": {},
   "source": [
    "Q2: When a programmer attempts to use a keyword for a variable or function name, a compilation error will be triggered."
   ]
  },
  {
   "cell_type": "raw",
   "id": "fbe3af3c-102c-4b79-a5cf-29ba7702bd2f",
   "metadata": {},
   "source": [
    "Q3: Yes, Strings are data, so we can use them to fill up a variable."
   ]
  },
  {
   "cell_type": "raw",
   "id": "c2940719-e0bf-4d0c-95c3-3caa978d5876",
   "metadata": {},
   "source": [
    "Q4:  Yes \"_\" can be used as a variable.\n",
    "Eg: _ = 2\n",
    "_\n",
    "2\n"
   ]
  },
  {
   "cell_type": "raw",
   "id": "572dd262-3147-4147-9d19-249ac6a37559",
   "metadata": {},
   "source": [
    "Q5:  x = 6     \n",
    "print(type(x))\n",
    "<class 'int'>\n",
    "\n",
    "x = 'hello' \n",
    "print(type(x))\n",
    "<class 'str'>"
   ]
  },
  {
   "cell_type": "code",
   "execution_count": null,
   "id": "5f30f483-0987-4079-a69e-6b4624d1c14a",
   "metadata": {},
   "outputs": [],
   "source": []
  }
 ],
 "metadata": {
  "kernelspec": {
   "display_name": "Python 3 (ipykernel)",
   "language": "python",
   "name": "python3"
  },
  "language_info": {
   "codemirror_mode": {
    "name": "ipython",
    "version": 3
   },
   "file_extension": ".py",
   "mimetype": "text/x-python",
   "name": "python",
   "nbconvert_exporter": "python",
   "pygments_lexer": "ipython3",
   "version": "3.10.8"
  }
 },
 "nbformat": 4,
 "nbformat_minor": 5
}
